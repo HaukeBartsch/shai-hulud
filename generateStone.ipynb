{
 "cells": [
  {
   "cell_type": "markdown",
   "metadata": {},
   "source": [
    "# Generate a stone like geometry\n",
    "\n",
    "Idea here is to generate a set of random points, pick some in the middle that are inside an ellipsoid and compute the surface of the Voronoi tesselation of the points inside with the points outside."
   ]
  },
  {
   "cell_type": "markdown",
   "metadata": {},
   "source": []
  }
 ],
 "metadata": {
  "language_info": {
   "name": "python"
  },
  "orig_nbformat": 4
 },
 "nbformat": 4,
 "nbformat_minor": 2
}
