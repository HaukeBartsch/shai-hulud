{
 "cells": [
  {
   "cell_type": "markdown",
   "metadata": {},
   "source": [
    "# Generate some simple geometry for a tube\n",
    "\n",
    "As a surgical simulator we want to travel the length of the tube and create images from a camera point."
   ]
  },
  {
   "cell_type": "code",
   "execution_count": 1,
   "metadata": {},
   "outputs": [],
   "source": [
    "import numpy as np"
   ]
  },
  {
   "cell_type": "markdown",
   "metadata": {},
   "source": [
    "Start by creating a line in 3D."
   ]
  },
  {
   "cell_type": "code",
   "execution_count": 2,
   "metadata": {},
   "outputs": [
    {
     "ename": "AttributeError",
     "evalue": "module 'numpy' has no attribute 'random'",
     "output_type": "error",
     "traceback": [
      "\u001b[0;31m---------------------------------------------------------------------------\u001b[0m",
      "\u001b[0;31mAttributeError\u001b[0m                            Traceback (most recent call last)",
      "\u001b[1;32m/Users/hauke/src/shai-hulud/generateGeometry.ipynb Cell 4'\u001b[0m in \u001b[0;36m<cell line: 2>\u001b[0;34m()\u001b[0m\n\u001b[1;32m      <a href='vscode-notebook-cell:/Users/hauke/src/shai-hulud/generateGeometry.ipynb#ch0000002?line=0'>1</a>\u001b[0m stepSize \u001b[39m=\u001b[39m \u001b[39m1\u001b[39m\n\u001b[0;32m----> <a href='vscode-notebook-cell:/Users/hauke/src/shai-hulud/generateGeometry.ipynb#ch0000002?line=1'>2</a>\u001b[0m randomDir \u001b[39m=\u001b[39m numpy\u001b[39m.\u001b[39;49mrandom\u001b[39m.\u001b[39mrand(\u001b[39m3\u001b[39m)\n\u001b[1;32m      <a href='vscode-notebook-cell:/Users/hauke/src/shai-hulud/generateGeometry.ipynb#ch0000002?line=2'>3</a>\u001b[0m randomDir \u001b[39m=\u001b[39m randomDir \u001b[39m/\u001b[39m numpy\u001b[39m.\u001b[39mlinalg\u001b[39m.\u001b[39mnorm(randomDir)\n",
      "\u001b[0;31mAttributeError\u001b[0m: module 'numpy' has no attribute 'random'"
     ]
    }
   ],
   "source": [
    "stepSize = 1\n",
    "randomDir = numpy.random.rand(3)\n",
    "randomDir = randomDir / numpy.linalg.norm(randomDir)"
   ]
  },
  {
   "cell_type": "code",
   "execution_count": null,
   "metadata": {},
   "outputs": [],
   "source": []
  }
 ],
 "metadata": {
  "interpreter": {
   "hash": "aee8b7b246df8f9039afb4144a1f6fd8d2ca17a180786b69acc140d282b71a49"
  },
  "kernelspec": {
   "display_name": "Python 3.9.12 64-bit",
   "language": "python",
   "name": "python3"
  },
  "language_info": {
   "codemirror_mode": {
    "name": "ipython",
    "version": 3
   },
   "file_extension": ".py",
   "mimetype": "text/x-python",
   "name": "python",
   "nbconvert_exporter": "python",
   "pygments_lexer": "ipython3",
   "version": "3.9.12"
  },
  "orig_nbformat": 4
 },
 "nbformat": 4,
 "nbformat_minor": 2
}
