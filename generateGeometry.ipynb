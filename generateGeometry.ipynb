{
 "cells": [
  {
   "cell_type": "markdown",
   "metadata": {},
   "source": [
    "# Generate some simple geometry for a tube\n",
    "\n",
    "As a surgical simulator we want to travel the length of the tube and create images from a camera point."
   ]
  },
  {
   "cell_type": "code",
   "execution_count": 108,
   "metadata": {},
   "outputs": [],
   "source": [
    "import numpy as np\n",
    "import math\n",
    "import matplotlib.pyplot as plt\n",
    "%matplotlib qt"
   ]
  },
  {
   "cell_type": "markdown",
   "metadata": {},
   "source": [
    "Start by creating a line in 3D."
   ]
  },
  {
   "cell_type": "code",
   "execution_count": 125,
   "metadata": {},
   "outputs": [
    {
     "data": {
      "text/plain": [
       "[array([0, 0, 0]),\n",
       " array([ 0.10026598, -0.00444437,  0.48982342]),\n",
       " array([-0.19567573, -0.0686605 ,  0.8876862 ]),\n",
       " array([-0.17938242, -0.51010369,  1.12191353]),\n",
       " array([-0.24641104, -0.79382806,  1.52812486]),\n",
       " array([-0.2081432 , -1.13831756,  1.88848933]),\n",
       " array([-0.29784532, -1.51501909,  2.20479534]),\n",
       " array([-0.20398298, -1.56201181,  2.69365273]),\n",
       " array([ 0.15086487, -1.54619933,  3.04555183]),\n",
       " array([ 0.4999804 , -1.68098335,  3.37714134]),\n",
       " array([ 0.6563941 , -1.75761925,  3.84582215]),\n",
       " array([ 0.73619335, -1.69375293,  4.33526384]),\n",
       " array([ 0.78821666, -1.54345107,  4.80929224]),\n",
       " array([ 0.68323593, -1.56189496,  5.29779902]),\n",
       " array([ 0.72961019, -1.38592734,  5.76350797]),\n",
       " array([ 0.87106604, -1.26092419,  6.22650306]),\n",
       " array([ 0.87084583, -1.16776399,  6.71774753]),\n",
       " array([ 0.96924314, -0.99987681,  7.17832528]),\n",
       " array([ 1.35401231, -0.79854646,  7.4261534 ]),\n",
       " array([ 1.59059295, -0.47272083,  7.72257752]),\n",
       " array([ 1.64975204e+00, -7.60758723e-03,  7.89627229e+00])]"
      ]
     },
     "execution_count": 125,
     "metadata": {},
     "output_type": "execute_result"
    }
   ],
   "source": [
    "stepSize = 0.5\n",
    "smoothness = 0.6\n",
    "length = 20\n",
    "endPoint = np.asarray([0,0,0])\n",
    "centerLine = [endPoint]\n",
    "randomDir = np.asarray([0,0,1])\n",
    "for i in range(length):\n",
    "    randomDir = randomDir + (np.random.rand(3)*2 -\n",
    "                             np.asarray([smoothness, smoothness, smoothness]))\n",
    "    randomDir = randomDir / np.linalg.norm(randomDir)\n",
    "    endPoint = endPoint + (stepSize * randomDir)\n",
    "    centerLine.append(endPoint)\n",
    "centerLine"
   ]
  },
  {
   "cell_type": "code",
   "execution_count": 126,
   "metadata": {},
   "outputs": [],
   "source": [
    "fig = plt.figure(figsize=(10,10))\n",
    "ax = fig.add_subplot(111, projection='3d')\n",
    "x = [a[0] for a in centerLine]\n",
    "y = [a[1] for a in centerLine]\n",
    "z = [a[2] for a in centerLine]\n",
    "ax.plot(x,y,z)\n",
    "plt.show()"
   ]
  },
  {
   "cell_type": "markdown",
   "metadata": {},
   "source": [
    "Compute two vectors that are orthogonal to the centerline at each point. Those two vectors t and b will be in the plane that contains our circle."
   ]
  },
  {
   "cell_type": "code",
   "execution_count": 129,
   "metadata": {},
   "outputs": [],
   "source": [
    "radius = 0.3\n",
    "circlePoints = 10\n",
    "circles = []\n",
    "for i in range(len(centerLine)-1):\n",
    "    v = centerLine[i+1] - centerLine[i]\n",
    "    v = v / np.linalg.norm(v)\n",
    "    r = np.random.rand(3)-0.5\n",
    "    r = r / np.linalg.norm(r)\n",
    "    t = np.cross(v, r)\n",
    "    t = t / np.linalg.norm(t)\n",
    "    b=t\n",
    "    # now use these vectors to place our circle\n",
    "    circle = []\n",
    "    for j in range(circlePoints):\n",
    "        angleOfRotation = j*(2*math.pi/circlePoints)\n",
    "        b2 = b*np.cos(angleOfRotation) + (np.cross(v,b)*np.sin(angleOfRotation) + v*(np.dot(v,b)*(1-np.cos(angleOfRotation))))\n",
    "        b2 = b2 / np.linalg.norm(b2)\n",
    "        b2 = radius * b2\n",
    "        circle.append(centerLine[i+1] + b2)\n",
    "    circle.append(circle[0])\n",
    "    circles.append(circle)"
   ]
  },
  {
   "cell_type": "markdown",
   "metadata": {},
   "source": [
    "We need to put the c"
   ]
  },
  {
   "cell_type": "code",
   "execution_count": 131,
   "metadata": {},
   "outputs": [
    {
     "ename": "AttributeError",
     "evalue": "module 'matplotlib.pyplot' has no attribute 'set_aspect'",
     "output_type": "error",
     "traceback": [
      "\u001b[0;31m---------------------------------------------------------------------------\u001b[0m",
      "\u001b[0;31mAttributeError\u001b[0m                            Traceback (most recent call last)",
      "\u001b[0;32m/var/folders/1z/hmvdxf0500x_zcb2gfxdq6t80000gs/T/ipykernel_97102/1393919269.py\u001b[0m in \u001b[0;36m<module>\u001b[0;34m\u001b[0m\n\u001b[1;32m     11\u001b[0m     \u001b[0max\u001b[0m\u001b[0;34m.\u001b[0m\u001b[0mplot\u001b[0m\u001b[0;34m(\u001b[0m\u001b[0mxc\u001b[0m\u001b[0;34m,\u001b[0m \u001b[0myc\u001b[0m\u001b[0;34m,\u001b[0m \u001b[0mzc\u001b[0m\u001b[0;34m)\u001b[0m\u001b[0;34m\u001b[0m\u001b[0;34m\u001b[0m\u001b[0m\n\u001b[1;32m     12\u001b[0m \u001b[0max\u001b[0m\u001b[0;34m.\u001b[0m\u001b[0mplot\u001b[0m\u001b[0;34m(\u001b[0m\u001b[0mx\u001b[0m\u001b[0;34m,\u001b[0m \u001b[0my\u001b[0m\u001b[0;34m,\u001b[0m \u001b[0mz\u001b[0m\u001b[0;34m)\u001b[0m\u001b[0;34m\u001b[0m\u001b[0;34m\u001b[0m\u001b[0m\n\u001b[0;32m---> 13\u001b[0;31m \u001b[0mplt\u001b[0m\u001b[0;34m.\u001b[0m\u001b[0mset_aspect\u001b[0m\u001b[0;34m(\u001b[0m\u001b[0;34m)\u001b[0m\u001b[0;34m\u001b[0m\u001b[0;34m\u001b[0m\u001b[0m\n\u001b[0m\u001b[1;32m     14\u001b[0m \u001b[0mplt\u001b[0m\u001b[0;34m.\u001b[0m\u001b[0mshow\u001b[0m\u001b[0;34m(\u001b[0m\u001b[0;34m)\u001b[0m\u001b[0;34m\u001b[0m\u001b[0;34m\u001b[0m\u001b[0m\n",
      "\u001b[0;31mAttributeError\u001b[0m: module 'matplotlib.pyplot' has no attribute 'set_aspect'"
     ]
    }
   ],
   "source": [
    "fig = plt.figure(figsize=(10, 10))\n",
    "ax = fig.add_subplot(111, projection='3d')\n",
    "x = [a[0] for a in centerLine]\n",
    "y = [a[1] for a in centerLine]\n",
    "z = [a[2] for a in centerLine]\n",
    "for i in range(len(circles)):\n",
    "    circle = circles[i]\n",
    "    xc = [a[0] for a in circle]\n",
    "    yc = [a[1] for a in circle]\n",
    "    zc = [a[2] for a in circle]\n",
    "    ax.plot(xc, yc, zc)\n",
    "ax.plot(x, y, z)\n",
    "plt.set_aspect()\n",
    "plt.show()\n"
   ]
  },
  {
   "cell_type": "code",
   "execution_count": null,
   "metadata": {},
   "outputs": [],
   "source": []
  },
  {
   "cell_type": "code",
   "execution_count": null,
   "metadata": {},
   "outputs": [],
   "source": []
  },
  {
   "cell_type": "code",
   "execution_count": null,
   "metadata": {},
   "outputs": [],
   "source": []
  }
 ],
 "metadata": {
  "interpreter": {
   "hash": "aee8b7b246df8f9039afb4144a1f6fd8d2ca17a180786b69acc140d282b71a49"
  },
  "kernelspec": {
   "display_name": "Python 3.9.12 64-bit",
   "language": "python",
   "name": "python3"
  },
  "language_info": {
   "codemirror_mode": {
    "name": "ipython",
    "version": 3
   },
   "file_extension": ".py",
   "mimetype": "text/x-python",
   "name": "python",
   "nbconvert_exporter": "python",
   "pygments_lexer": "ipython3",
   "version": "3.9.7"
  },
  "orig_nbformat": 4
 },
 "nbformat": 4,
 "nbformat_minor": 2
}
